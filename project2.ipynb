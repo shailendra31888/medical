{
  "nbformat": 4,
  "nbformat_minor": 0,
  "metadata": {
    "colab": {
      "provenance": [],
      "authorship_tag": "ABX9TyMvZA/i0V0ZP0jCAPX48esp",
      "include_colab_link": true
    },
    "kernelspec": {
      "name": "python3",
      "display_name": "Python 3"
    },
    "language_info": {
      "name": "python"
    }
  },
  "cells": [
    {
      "cell_type": "markdown",
      "metadata": {
        "id": "view-in-github",
        "colab_type": "text"
      },
      "source": [
        "<a href=\"https://colab.research.google.com/github/shailendra31888/medical/blob/main/project2.ipynb\" target=\"_parent\"><img src=\"https://colab.research.google.com/assets/colab-badge.svg\" alt=\"Open In Colab\"/></a>"
      ]
    },
    {
      "cell_type": "code",
      "source": [
        "import logging\n",
        "from pathlib import Path\n",
        "\n",
        "logging.basicConfig(\n",
        "    level=logging.INFO,\n",
        "    format=\"[%(asctime)s: %(levelname)s]: %(message)s\"\n",
        ")\n",
        "\n",
        "project_name = input(\"Enter your project name: \")\n",
        "if not project_name:\n",
        "    logging.error(\"Project name cannot be empty.\")\n",
        "else:\n",
        "    logging.info(f\"Creating project by name: {project_name}\")\n",
        "\n",
        "    list_of_files = [\n",
        "        \".github/workflows/.gitkeep\",\n",
        "        \".github/workflows/main.yaml\",\n",
        "        f\"{project_name}/__init__.py\",\n",
        "        f\"{project_name}/components/__init__.py\",\n",
        "        f\"{project_name}/entity/__init__.py\",\n",
        "        f\"{project_name}/pipeline/__init__.py\",\n",
        "        f\"{project_name}/logger/__init__.py\",\n",
        "        f\"{project_name}/config.py\",\n",
        "        f\"{project_name}/exception.py\",\n",
        "        f\"{project_name}/predictor.py\",\n",
        "        f\"{project_name}/utils.py\",\n",
        "        \"configs/config.yaml\",\n",
        "        \"requirements.txt\",\n",
        "        \"setup.py\",\n",
        "        \"main.py\"\n",
        "    ]\n",
        "\n",
        "    for filepath in list_of_files:\n",
        "        filepath = Path(filepath)\n",
        "        filedir, filename = filepath.parent, filepath.name\n",
        "        if not filepath.exists():\n",
        "            if filedir:\n",
        "                filedir.mkdir(parents=True, exist_ok=True)\n",
        "                logging.info(f\"Creating a new directory at: {filedir}\")\n",
        "            with open(filepath, \"w\") as f:\n",
        "                logging.info(f\"Creating a new file: {filepath}\")\n",
        "        else:\n",
        "            logging.info(f\"File or directory already exists at: {filepath}\")\n"
      ],
      "metadata": {
        "id": "qmnMKi1LiYFQ",
        "colab": {
          "base_uri": "https://localhost:8080/"
        },
        "outputId": "247159b4-dad9-4941-851f-e6283c1fbf97"
      },
      "execution_count": null,
      "outputs": [
        {
          "name": "stdout",
          "output_type": "stream",
          "text": [
            "Enter your project name: insurance\n"
          ]
        }
      ]
    },
    {
      "cell_type": "code",
      "source": [],
      "metadata": {
        "id": "8oGNa3ogiq5P"
      },
      "execution_count": null,
      "outputs": []
    },
    {
      "cell_type": "code",
      "source": [],
      "metadata": {
        "id": "UJahCTwEjBMn"
      },
      "execution_count": null,
      "outputs": []
    },
    {
      "cell_type": "code",
      "source": [],
      "metadata": {
        "id": "kxA_HDhvjYMl"
      },
      "execution_count": null,
      "outputs": []
    },
    {
      "cell_type": "code",
      "source": [],
      "metadata": {
        "id": "sQAwoIyUkMKx"
      },
      "execution_count": null,
      "outputs": []
    },
    {
      "cell_type": "code",
      "source": [],
      "metadata": {
        "id": "DDsryZFdkkrB"
      },
      "execution_count": null,
      "outputs": []
    },
    {
      "cell_type": "code",
      "source": [],
      "metadata": {
        "id": "M622mea6k82J"
      },
      "execution_count": null,
      "outputs": []
    }
  ]
}